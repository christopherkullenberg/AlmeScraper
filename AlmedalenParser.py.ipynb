{
 "cells": [
  {
   "cell_type": "code",
   "execution_count": 1,
   "metadata": {
    "collapsed": true
   },
   "outputs": [],
   "source": [
    "import urllib.request\n",
    "import re\n",
    "from bs4 import BeautifulSoup"
   ]
  },
  {
   "cell_type": "code",
   "execution_count": 2,
   "metadata": {
    "collapsed": false
   },
   "outputs": [],
   "source": [
    "urllist = []\n",
    "urlfile = open('almeurl.txt') #contains 3513 URLs to Almedalen events.\n",
    "almeurls = urlfile.readlines()\n",
    "for a in almeurls:\n",
    "    urllist.append(a)"
   ]
  },
  {
   "cell_type": "code",
   "execution_count": 3,
   "metadata": {
    "collapsed": true
   },
   "outputs": [],
   "source": [
    "eventlist = []\n",
    "pagecounter = 0 "
   ]
  },
  {
   "cell_type": "code",
   "execution_count": null,
   "metadata": {
    "collapsed": false,
    "scrolled": true
   },
   "outputs": [],
   "source": [
    "import time\n",
    "for url in urllist:\n",
    "    retry = 0\n",
    "    try:\n",
    "        with urllib.request.urlopen(url) as event:\n",
    "            eventdict = {}\n",
    "            html = event.read()\n",
    "            soup = BeautifulSoup(html, 'html.parser')\n",
    "            datadivs = soup.findAll(\"div\", { \"class\" : \"row clearfix\" })\n",
    "            for d in datadivs:\n",
    "                leftdivs = d.findAll(\"div\", { \"class\" : \"leftcol\" })\n",
    "                rightdivs = d.findAll(\"div\", { \"class\" : \"rightcol\" })\n",
    "                def leftdiv():\n",
    "                    for l in leftdivs:\n",
    "                        for x in l:\n",
    "                            return x\n",
    "                def rightdiv():\n",
    "                    for r in rightdivs:\n",
    "                        for x in r:\n",
    "                            return x.strip()\n",
    "                d['mynewkey'] = 'mynewvalue'\n",
    "                eventdict[leftdiv()] = rightdiv()\n",
    "        eventlist.append(eventdict)\n",
    "        pagecounter += 1\n",
    "        print(\"Added to dictionary. Total count: \" + str(pagecounter))\n",
    "    except urllib2.URLError:\n",
    "        retry += 1\n",
    "        print(\"Testar igen, försök: \" + str(retry))\n",
    "        time.sleep(5)\n",
    "        pass"
   ]
  },
  {
   "cell_type": "code",
   "execution_count": 5,
   "metadata": {
    "collapsed": true
   },
   "outputs": [],
   "source": [
    "import csv\n",
    "csvoutputfile = open(\"almeprogram.csv\", 'w', encoding=\"utf-8\")\n",
    "fieldnames = ['Arrangör', 'Kontaktperson1', 'Kontaktperson2', 'Sökord', 'Ämnesområde']\n",
    "writer = csv.DictWriter(csvoutputfile, fieldnames=fieldnames, quotechar='\"')\n",
    "writer.writeheader()"
   ]
  },
  {
   "cell_type": "code",
   "execution_count": 6,
   "metadata": {
    "collapsed": false
   },
   "outputs": [],
   "source": [
    "for e in eventlist:\n",
    "    # This only makes use of parts of the information. Print entire dict to see all fields. \n",
    "    for key, value in e.items():\n",
    "        if key == 'Arrangör:':     \n",
    "            arrangor = value\n",
    "        if key == 'Kontaktperson 1:':\n",
    "            k1 = value   \n",
    "        if key == 'Kontaktperson 2:':\n",
    "            k2 = value\n",
    "        else:\n",
    "            k2 = \"\"      \n",
    "        if key == 'Sökord:':\n",
    "            sokord = value\n",
    "        if key == 'Ämnesområde:':\n",
    "            amne = value\n",
    "    writer.writerow({'Arrangör': arrangor, 'Kontaktperson1': k1, 'Kontaktperson2': k2, 'Sökord': sokord, 'Ämnesområde': amne})\n",
    "\n",
    "csvoutputfile.close()"
   ]
  },
  {
   "cell_type": "code",
   "execution_count": null,
   "metadata": {
    "collapsed": true
   },
   "outputs": [],
   "source": []
  },
  {
   "cell_type": "code",
   "execution_count": null,
   "metadata": {
    "collapsed": true
   },
   "outputs": [],
   "source": []
  },
  {
   "cell_type": "code",
   "execution_count": null,
   "metadata": {
    "collapsed": true
   },
   "outputs": [],
   "source": []
  },
  {
   "cell_type": "code",
   "execution_count": null,
   "metadata": {
    "collapsed": true
   },
   "outputs": [],
   "source": []
  }
 ],
 "metadata": {
  "kernelspec": {
   "display_name": "Python 3",
   "language": "python",
   "name": "python3"
  },
  "language_info": {
   "codemirror_mode": {
    "name": "ipython",
    "version": 3
   },
   "file_extension": ".py",
   "mimetype": "text/x-python",
   "name": "python",
   "nbconvert_exporter": "python",
   "pygments_lexer": "ipython3",
   "version": "3.4.3"
  }
 },
 "nbformat": 4,
 "nbformat_minor": 0
}
