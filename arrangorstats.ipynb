{
 "cells": [
  {
   "cell_type": "code",
   "execution_count": null,
   "metadata": {
    "collapsed": false
   },
   "outputs": [],
   "source": [
    "import csv\n",
    "from collections import Counter\n",
    "\n",
    "#input data\n",
    "thefile = open(\"almeprogram.csv\")\n",
    "data = csv.reader(thefile, delimiter=',', quotechar='\"')\n",
    "next(data) #skip header\n",
    "\n",
    "#output data\n",
    "outputfile = open(\"arrangorlista.csv\", \"w\")\n",
    "csvoutput = csv.writer(outputfile, delimiter=',', quotechar='\"')\n",
    "\n",
    "singlehostlist = []\n",
    "\n",
    "for row in data:\n",
    "    splitted = (row[0]).split(', ') # Use this for co-host analysis\n",
    "    for s in splitted: # Use this for individual hosts analysis\n",
    "        singlehostlist.append(s.lower()) # Use lower to minimise spelling inconsistencies\n",
    "        #print(s) # for debugging\n",
    "    \n",
    "countedlist = Counter(singlehostlist).most_common()\n",
    "\n",
    "for c in countedlist:\n",
    "    print(c[0].title() + \"\\t\" + str(c[1])) # .title() just prints nicer. \n",
    "    csvoutput.writerow([c[0].title(), str(c[1])])\n",
    "\n",
    "outputfile.close()"
   ]
  },
  {
   "cell_type": "code",
   "execution_count": null,
   "metadata": {
    "collapsed": false,
    "scrolled": true
   },
   "outputs": [],
   "source": [
    "# Print a html table from the most popular universities\n",
    "import re\n",
    "\n",
    "print('''\n",
    "<table style=\"width:70%\">\n",
    "  <tr>\n",
    "    <th>Arrangör</th>\n",
    "    <th>Event</th>\n",
    "\n",
    "  </tr>\n",
    "''')\n",
    "\n",
    "for c in countedlist:\n",
    "    #print(c[0].title() + \"\\t\" + str(c[1]))\n",
    "    namefield = c[0].title()\n",
    "    unidetector = re.findall(r'Universit.*|Högskol.*', namefield, re.IGNORECASE)\n",
    "    #if unidetector:\n",
    "        #print(c[0].title()+ \"\\t\" + str(c[1]))\n",
    "    \n",
    "    if unidetector:\n",
    "        print('<tr><td>' + c[0].title() + \"</td>\" + '<td>' + str(c[1]) + '</td></tr>')\n",
    "        \n",
    "print('</table>')\n",
    "    "
   ]
  },
  {
   "cell_type": "code",
   "execution_count": null,
   "metadata": {
    "collapsed": true
   },
   "outputs": [],
   "source": []
  }
 ],
 "metadata": {
  "kernelspec": {
   "display_name": "Python 3",
   "language": "python",
   "name": "python3"
  },
  "language_info": {
   "codemirror_mode": {
    "name": "ipython",
    "version": 3
   },
   "file_extension": ".py",
   "mimetype": "text/x-python",
   "name": "python",
   "nbconvert_exporter": "python",
   "pygments_lexer": "ipython3",
   "version": "3.4.3"
  }
 },
 "nbformat": 4,
 "nbformat_minor": 0
}
